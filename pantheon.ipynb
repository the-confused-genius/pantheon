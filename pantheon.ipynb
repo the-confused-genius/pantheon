{
  "cells": [
    {
      "cell_type": "markdown",
      "metadata": {
        "id": "view-in-github",
        "colab_type": "text"
      },
      "source": [
        "<a href=\"https://colab.research.google.com/github/the-confused-genius/pantheon/blob/main/pantheon.ipynb\" target=\"_parent\"><img src=\"https://colab.research.google.com/assets/colab-badge.svg\" alt=\"Open In Colab\"/></a>"
      ]
    },
    {
      "cell_type": "markdown",
      "source": [
        "Importing the necessary libraries to use and perform on the funcitons"
      ],
      "metadata": {
        "id": "YfhltoJT0c0F"
      }
    },
    {
      "cell_type": "code",
      "execution_count": 1,
      "metadata": {
        "id": "eqqpXhNrONDe"
      },
      "outputs": [],
      "source": [
        "import pandas as pd\n",
        "import numpy as np \n",
        "import matplotlib.pyplot as plt\n",
        "import sklearn\n",
        "import re\n",
        "import seaborn as sns\n",
        "from sklearn.neural_network import MLPClassifier\n",
        "from collections import OrderedDict\n",
        "from sklearn.model_selection import train_test_split\n",
        "from sklearn.metrics import mean_squared_error \n",
        "from sklearn.metrics import r2_score\n",
        "from sklearn.metrics import classification_report,confusion_matrix"
      ]
    },
    {
      "cell_type": "markdown",
      "source": [
        "Importing the dataset from my github repository "
      ],
      "metadata": {
        "id": "sKkXi8Mewopt"
      }
    },
    {
      "cell_type": "code",
      "execution_count": 2,
      "metadata": {
        "colab": {
          "base_uri": "https://localhost:8080/",
          "height": 267
        },
        "id": "V5RxzS-jQNut",
        "outputId": "b59f92c4-5542-45b1-9327-97e2681fe271"
      },
      "outputs": [
        {
          "output_type": "execute_result",
          "data": {
            "text/html": [
              "\n",
              "  <div id=\"df-bd63b5fc-ec3f-4ccf-973c-e543011656a3\">\n",
              "    <div class=\"colab-df-container\">\n",
              "      <div>\n",
              "<style scoped>\n",
              "    .dataframe tbody tr th:only-of-type {\n",
              "        vertical-align: middle;\n",
              "    }\n",
              "\n",
              "    .dataframe tbody tr th {\n",
              "        vertical-align: top;\n",
              "    }\n",
              "\n",
              "    .dataframe thead th {\n",
              "        text-align: right;\n",
              "    }\n",
              "</style>\n",
              "<table border=\"1\" class=\"dataframe\">\n",
              "  <thead>\n",
              "    <tr style=\"text-align: right;\">\n",
              "      <th></th>\n",
              "      <th>Age</th>\n",
              "      <th>Gender</th>\n",
              "      <th>Polyuria</th>\n",
              "      <th>Polydipsia</th>\n",
              "      <th>sudden weight loss</th>\n",
              "      <th>weakness</th>\n",
              "      <th>Polyphagia</th>\n",
              "      <th>Genital thrush</th>\n",
              "      <th>visual blurring</th>\n",
              "      <th>Itching</th>\n",
              "      <th>Irritability</th>\n",
              "      <th>delayed healing</th>\n",
              "      <th>partial paresis</th>\n",
              "      <th>muscle stiffness</th>\n",
              "      <th>Alopecia</th>\n",
              "      <th>Obesity</th>\n",
              "      <th>class</th>\n",
              "    </tr>\n",
              "  </thead>\n",
              "  <tbody>\n",
              "    <tr>\n",
              "      <th>0</th>\n",
              "      <td>40</td>\n",
              "      <td>Male</td>\n",
              "      <td>No</td>\n",
              "      <td>Yes</td>\n",
              "      <td>No</td>\n",
              "      <td>Yes</td>\n",
              "      <td>No</td>\n",
              "      <td>No</td>\n",
              "      <td>No</td>\n",
              "      <td>Yes</td>\n",
              "      <td>No</td>\n",
              "      <td>Yes</td>\n",
              "      <td>No</td>\n",
              "      <td>Yes</td>\n",
              "      <td>Yes</td>\n",
              "      <td>Yes</td>\n",
              "      <td>Positive</td>\n",
              "    </tr>\n",
              "    <tr>\n",
              "      <th>1</th>\n",
              "      <td>58</td>\n",
              "      <td>Male</td>\n",
              "      <td>No</td>\n",
              "      <td>No</td>\n",
              "      <td>No</td>\n",
              "      <td>Yes</td>\n",
              "      <td>No</td>\n",
              "      <td>No</td>\n",
              "      <td>Yes</td>\n",
              "      <td>No</td>\n",
              "      <td>No</td>\n",
              "      <td>No</td>\n",
              "      <td>Yes</td>\n",
              "      <td>No</td>\n",
              "      <td>Yes</td>\n",
              "      <td>No</td>\n",
              "      <td>Positive</td>\n",
              "    </tr>\n",
              "    <tr>\n",
              "      <th>2</th>\n",
              "      <td>41</td>\n",
              "      <td>Male</td>\n",
              "      <td>Yes</td>\n",
              "      <td>No</td>\n",
              "      <td>No</td>\n",
              "      <td>Yes</td>\n",
              "      <td>Yes</td>\n",
              "      <td>No</td>\n",
              "      <td>No</td>\n",
              "      <td>Yes</td>\n",
              "      <td>No</td>\n",
              "      <td>Yes</td>\n",
              "      <td>No</td>\n",
              "      <td>Yes</td>\n",
              "      <td>Yes</td>\n",
              "      <td>No</td>\n",
              "      <td>Positive</td>\n",
              "    </tr>\n",
              "    <tr>\n",
              "      <th>3</th>\n",
              "      <td>45</td>\n",
              "      <td>Male</td>\n",
              "      <td>No</td>\n",
              "      <td>No</td>\n",
              "      <td>Yes</td>\n",
              "      <td>Yes</td>\n",
              "      <td>Yes</td>\n",
              "      <td>Yes</td>\n",
              "      <td>No</td>\n",
              "      <td>Yes</td>\n",
              "      <td>No</td>\n",
              "      <td>Yes</td>\n",
              "      <td>No</td>\n",
              "      <td>No</td>\n",
              "      <td>No</td>\n",
              "      <td>No</td>\n",
              "      <td>Positive</td>\n",
              "    </tr>\n",
              "    <tr>\n",
              "      <th>4</th>\n",
              "      <td>60</td>\n",
              "      <td>Male</td>\n",
              "      <td>Yes</td>\n",
              "      <td>Yes</td>\n",
              "      <td>Yes</td>\n",
              "      <td>Yes</td>\n",
              "      <td>Yes</td>\n",
              "      <td>No</td>\n",
              "      <td>Yes</td>\n",
              "      <td>Yes</td>\n",
              "      <td>Yes</td>\n",
              "      <td>Yes</td>\n",
              "      <td>Yes</td>\n",
              "      <td>Yes</td>\n",
              "      <td>Yes</td>\n",
              "      <td>Yes</td>\n",
              "      <td>Positive</td>\n",
              "    </tr>\n",
              "  </tbody>\n",
              "</table>\n",
              "</div>\n",
              "      <button class=\"colab-df-convert\" onclick=\"convertToInteractive('df-bd63b5fc-ec3f-4ccf-973c-e543011656a3')\"\n",
              "              title=\"Convert this dataframe to an interactive table.\"\n",
              "              style=\"display:none;\">\n",
              "        \n",
              "  <svg xmlns=\"http://www.w3.org/2000/svg\" height=\"24px\"viewBox=\"0 0 24 24\"\n",
              "       width=\"24px\">\n",
              "    <path d=\"M0 0h24v24H0V0z\" fill=\"none\"/>\n",
              "    <path d=\"M18.56 5.44l.94 2.06.94-2.06 2.06-.94-2.06-.94-.94-2.06-.94 2.06-2.06.94zm-11 1L8.5 8.5l.94-2.06 2.06-.94-2.06-.94L8.5 2.5l-.94 2.06-2.06.94zm10 10l.94 2.06.94-2.06 2.06-.94-2.06-.94-.94-2.06-.94 2.06-2.06.94z\"/><path d=\"M17.41 7.96l-1.37-1.37c-.4-.4-.92-.59-1.43-.59-.52 0-1.04.2-1.43.59L10.3 9.45l-7.72 7.72c-.78.78-.78 2.05 0 2.83L4 21.41c.39.39.9.59 1.41.59.51 0 1.02-.2 1.41-.59l7.78-7.78 2.81-2.81c.8-.78.8-2.07 0-2.86zM5.41 20L4 18.59l7.72-7.72 1.47 1.35L5.41 20z\"/>\n",
              "  </svg>\n",
              "      </button>\n",
              "      \n",
              "  <style>\n",
              "    .colab-df-container {\n",
              "      display:flex;\n",
              "      flex-wrap:wrap;\n",
              "      gap: 12px;\n",
              "    }\n",
              "\n",
              "    .colab-df-convert {\n",
              "      background-color: #E8F0FE;\n",
              "      border: none;\n",
              "      border-radius: 50%;\n",
              "      cursor: pointer;\n",
              "      display: none;\n",
              "      fill: #1967D2;\n",
              "      height: 32px;\n",
              "      padding: 0 0 0 0;\n",
              "      width: 32px;\n",
              "    }\n",
              "\n",
              "    .colab-df-convert:hover {\n",
              "      background-color: #E2EBFA;\n",
              "      box-shadow: 0px 1px 2px rgba(60, 64, 67, 0.3), 0px 1px 3px 1px rgba(60, 64, 67, 0.15);\n",
              "      fill: #174EA6;\n",
              "    }\n",
              "\n",
              "    [theme=dark] .colab-df-convert {\n",
              "      background-color: #3B4455;\n",
              "      fill: #D2E3FC;\n",
              "    }\n",
              "\n",
              "    [theme=dark] .colab-df-convert:hover {\n",
              "      background-color: #434B5C;\n",
              "      box-shadow: 0px 1px 3px 1px rgba(0, 0, 0, 0.15);\n",
              "      filter: drop-shadow(0px 1px 2px rgba(0, 0, 0, 0.3));\n",
              "      fill: #FFFFFF;\n",
              "    }\n",
              "  </style>\n",
              "\n",
              "      <script>\n",
              "        const buttonEl =\n",
              "          document.querySelector('#df-bd63b5fc-ec3f-4ccf-973c-e543011656a3 button.colab-df-convert');\n",
              "        buttonEl.style.display =\n",
              "          google.colab.kernel.accessAllowed ? 'block' : 'none';\n",
              "\n",
              "        async function convertToInteractive(key) {\n",
              "          const element = document.querySelector('#df-bd63b5fc-ec3f-4ccf-973c-e543011656a3');\n",
              "          const dataTable =\n",
              "            await google.colab.kernel.invokeFunction('convertToInteractive',\n",
              "                                                     [key], {});\n",
              "          if (!dataTable) return;\n",
              "\n",
              "          const docLinkHtml = 'Like what you see? Visit the ' +\n",
              "            '<a target=\"_blank\" href=https://colab.research.google.com/notebooks/data_table.ipynb>data table notebook</a>'\n",
              "            + ' to learn more about interactive tables.';\n",
              "          element.innerHTML = '';\n",
              "          dataTable['output_type'] = 'display_data';\n",
              "          await google.colab.output.renderOutput(dataTable, element);\n",
              "          const docLink = document.createElement('div');\n",
              "          docLink.innerHTML = docLinkHtml;\n",
              "          element.appendChild(docLink);\n",
              "        }\n",
              "      </script>\n",
              "    </div>\n",
              "  </div>\n",
              "  "
            ],
            "text/plain": [
              "   Age Gender Polyuria Polydipsia  ... muscle stiffness Alopecia Obesity     class\n",
              "0   40   Male       No        Yes  ...              Yes      Yes     Yes  Positive\n",
              "1   58   Male       No         No  ...               No      Yes      No  Positive\n",
              "2   41   Male      Yes         No  ...              Yes      Yes      No  Positive\n",
              "3   45   Male       No         No  ...               No       No      No  Positive\n",
              "4   60   Male      Yes        Yes  ...              Yes      Yes     Yes  Positive\n",
              "\n",
              "[5 rows x 17 columns]"
            ]
          },
          "metadata": {},
          "execution_count": 2
        }
      ],
      "source": [
        "df = pd.read_csv('https://raw.githubusercontent.com/the-confused-genius/pantheon/main/diabetes_data_upload.csv')\n",
        "df.head()"
      ]
    },
    {
      "cell_type": "markdown",
      "source": [
        "Checking the information of the dataframe and the datatype of each column"
      ],
      "metadata": {
        "id": "ccRRBDUWvUlM"
      }
    },
    {
      "cell_type": "code",
      "execution_count": 3,
      "metadata": {
        "colab": {
          "base_uri": "https://localhost:8080/"
        },
        "id": "hqAxjqmsQWKa",
        "outputId": "374a40ac-2312-4b41-8ca5-6b837e7644b7"
      },
      "outputs": [
        {
          "output_type": "stream",
          "name": "stdout",
          "text": [
            "<class 'pandas.core.frame.DataFrame'>\n",
            "RangeIndex: 520 entries, 0 to 519\n",
            "Data columns (total 17 columns):\n",
            " #   Column              Non-Null Count  Dtype \n",
            "---  ------              --------------  ----- \n",
            " 0   Age                 520 non-null    int64 \n",
            " 1   Gender              520 non-null    object\n",
            " 2   Polyuria            520 non-null    object\n",
            " 3   Polydipsia          520 non-null    object\n",
            " 4   sudden weight loss  520 non-null    object\n",
            " 5   weakness            520 non-null    object\n",
            " 6   Polyphagia          520 non-null    object\n",
            " 7   Genital thrush      520 non-null    object\n",
            " 8   visual blurring     520 non-null    object\n",
            " 9   Itching             520 non-null    object\n",
            " 10  Irritability        520 non-null    object\n",
            " 11  delayed healing     520 non-null    object\n",
            " 12  partial paresis     520 non-null    object\n",
            " 13  muscle stiffness    520 non-null    object\n",
            " 14  Alopecia            520 non-null    object\n",
            " 15  Obesity             520 non-null    object\n",
            " 16  class               520 non-null    object\n",
            "dtypes: int64(1), object(16)\n",
            "memory usage: 69.2+ KB\n"
          ]
        }
      ],
      "source": [
        "df.info()"
      ]
    },
    {
      "cell_type": "markdown",
      "source": [
        "Checking for null values in the dataframe"
      ],
      "metadata": {
        "id": "e86zxAjSvO1G"
      }
    },
    {
      "cell_type": "code",
      "execution_count": 4,
      "metadata": {
        "colab": {
          "base_uri": "https://localhost:8080/"
        },
        "id": "F95o0kHwQZdk",
        "outputId": "36ff3bfa-41e0-4a5d-8662-a1e65136037a"
      },
      "outputs": [
        {
          "output_type": "execute_result",
          "data": {
            "text/plain": [
              "Age                   0\n",
              "Gender                0\n",
              "Polyuria              0\n",
              "Polydipsia            0\n",
              "sudden weight loss    0\n",
              "weakness              0\n",
              "Polyphagia            0\n",
              "Genital thrush        0\n",
              "visual blurring       0\n",
              "Itching               0\n",
              "Irritability          0\n",
              "delayed healing       0\n",
              "partial paresis       0\n",
              "muscle stiffness      0\n",
              "Alopecia              0\n",
              "Obesity               0\n",
              "class                 0\n",
              "dtype: int64"
            ]
          },
          "metadata": {},
          "execution_count": 4
        }
      ],
      "source": [
        "df.isnull().sum()"
      ]
    },
    {
      "cell_type": "markdown",
      "metadata": {
        "id": "GEXgsLflSwjS"
      },
      "source": [
        "Gender\t\n",
        "Polyuria\t\n",
        "Polydipsia\t\n",
        "sudden weight loss\n",
        "weakness\t\n",
        "Polyphagia       \n",
        "Genital thrush\t\n",
        "visual blurring\t\n",
        "Itching\t\n",
        "Irritability\t\n",
        "delayed healing\t\n",
        "partial paresis\t\n",
        "muscle stiffness\t\n",
        "Alopecia\t\n",
        "Obesity\t\n",
        "class - target variable \n",
        "\n",
        "All the above mentioned columns are in the form of string (objects) and needs to be converted to integer for faster and better machine learning model.\n",
        "\n",
        "Data processing\n"
      ]
    },
    {
      "cell_type": "code",
      "execution_count": 5,
      "metadata": {
        "colab": {
          "base_uri": "https://localhost:8080/"
        },
        "id": "tj-WynqeQsbd",
        "outputId": "e6f81100-f568-4b60-c2d6-a43fc84162db"
      },
      "outputs": [
        {
          "output_type": "stream",
          "name": "stdout",
          "text": [
            "Male      328\n",
            "Female    192\n",
            "Name: Gender, dtype: int64\n",
            "\n",
            "\n",
            "No     262\n",
            "Yes    258\n",
            "Name: Polyuria, dtype: int64\n",
            "\n",
            "\n",
            "No     287\n",
            "Yes    233\n",
            "Name: Polydipsia, dtype: int64\n",
            "\n",
            "\n",
            "No     303\n",
            "Yes    217\n",
            "Name: sudden weight loss, dtype: int64\n",
            "\n",
            "\n",
            "Yes    305\n",
            "No     215\n",
            "Name: weakness, dtype: int64\n",
            "\n",
            "\n",
            "No     283\n",
            "Yes    237\n",
            "Name: Polyphagia, dtype: int64\n",
            "\n",
            "\n",
            "No     404\n",
            "Yes    116\n",
            "Name: Genital thrush, dtype: int64\n",
            "\n",
            "\n",
            "No     287\n",
            "Yes    233\n",
            "Name: visual blurring, dtype: int64\n",
            "\n",
            "\n",
            "No     267\n",
            "Yes    253\n",
            "Name: Itching, dtype: int64\n",
            "\n",
            "\n",
            "No     394\n",
            "Yes    126\n",
            "Name: Irritability, dtype: int64\n",
            "\n",
            "\n",
            "No     281\n",
            "Yes    239\n",
            "Name: delayed healing, dtype: int64\n",
            "\n",
            "\n",
            "No     296\n",
            "Yes    224\n",
            "Name: partial paresis, dtype: int64\n",
            "\n",
            "\n",
            "No     325\n",
            "Yes    195\n",
            "Name: muscle stiffness, dtype: int64\n",
            "\n",
            "\n",
            "No     341\n",
            "Yes    179\n",
            "Name: Alopecia, dtype: int64\n",
            "\n",
            "\n",
            "No     432\n",
            "Yes     88\n",
            "Name: Obesity, dtype: int64\n",
            "\n",
            "\n",
            "Positive    320\n",
            "Negative    200\n",
            "Name: class, dtype: int64\n"
          ]
        }
      ],
      "source": [
        "print(df['Gender'].value_counts()) \n",
        "print(\"\\n\")\n",
        "print(df['Polyuria'].value_counts()) \n",
        "print(\"\\n\")\n",
        "print(df['Polydipsia'].value_counts()) \n",
        "print(\"\\n\")\n",
        "print(df['sudden weight loss'].value_counts()) \n",
        "print(\"\\n\")\n",
        "print(df['weakness'].value_counts()) \n",
        "print(\"\\n\")\n",
        "print(df['Polyphagia'].value_counts()) \n",
        "print(\"\\n\")\n",
        "print(df['Genital thrush'].value_counts()) \n",
        "print(\"\\n\")\n",
        "print(df['visual blurring'].value_counts()) \n",
        "print(\"\\n\")\n",
        "print(df['Itching'].value_counts()) \n",
        "print(\"\\n\")\n",
        "print(df['Irritability'].value_counts()) \n",
        "print(\"\\n\")\n",
        "print(df['delayed healing'].value_counts()) \n",
        "print(\"\\n\")\n",
        "print(df['partial paresis'].value_counts()) \n",
        "print(\"\\n\")\n",
        "print(df['muscle stiffness'].value_counts()) \n",
        "print(\"\\n\")\n",
        "print(df['Alopecia'].value_counts()) \n",
        "print(\"\\n\")\n",
        "print(df['Obesity'].value_counts()) \n",
        "print(\"\\n\")\n",
        "print(df['class'].value_counts()) "
      ]
    },
    {
      "cell_type": "code",
      "execution_count": 6,
      "metadata": {
        "id": "zXdJRSfFRaF5"
      },
      "outputs": [],
      "source": [
        "df['Gender'] = df['Gender'].replace(to_replace = 'Male',value = 0)\n",
        "df['Gender'] = df['Gender'].replace(to_replace = 'Female',value = 1)\n",
        "\n",
        "df['Polyuria']  = df['Polyuria'].replace(to_replace = 'No',value = 0)\n",
        "df['Polyuria']  = df['Polyuria'].replace(to_replace = 'Yes',value = 1)\n",
        "\n",
        "df['Polydipsia']  = df['Polydipsia'].replace(to_replace = 'No',value = 0)\n",
        "df['Polydipsia']  = df['Polydipsia'].replace(to_replace = 'Yes',value = 1)\n",
        "\n",
        "df['sudden weight loss'] = df['sudden weight loss'].replace(to_replace = 'No',value = 0)\n",
        "df['sudden weight loss'] = df['sudden weight loss'].replace(to_replace = 'Yes',value = 1)\n",
        "\n",
        "df['weakness'] = df['weakness'].replace(to_replace = 'No',value = 0)\n",
        "df['weakness'] = df['weakness'].replace(to_replace = 'Yes',value = 1)\n",
        "\n",
        "df['Polyphagia'] = df['Polyphagia'].replace(to_replace = 'No',value = 0)\n",
        "df['Polyphagia'] = df['Polyphagia'].replace(to_replace = 'Yes',value = 1)\n",
        "\n",
        "df['Genital thrush']  = df['Genital thrush'].replace(to_replace = 'No',value = 0)\n",
        "df['Genital thrush']  = df['Genital thrush'].replace(to_replace = 'Yes',value = 1)\n",
        "\n",
        "df['visual blurring'] = df['visual blurring'].replace(to_replace = 'No',value = 0)\n",
        "df['visual blurring'] = df['visual blurring'].replace(to_replace = 'Yes',value = 1)\n",
        "\n",
        "df['Itching'] = df['Itching'].replace(to_replace = 'No',value = 0)\n",
        "df['Itching'] = df['Itching'].replace(to_replace = 'Yes',value = 1)\n",
        "\n",
        "df['Irritability'] = df['Irritability'].replace(to_replace = 'No',value = 0)\n",
        "df['Irritability'] = df['Irritability'].replace(to_replace = 'Yes',value = 1)\n",
        "\n",
        "df['delayed healing'] = df['delayed healing'].replace(to_replace = 'No',value = 0)\n",
        "df['delayed healing'] = df['delayed healing'].replace(to_replace = 'Yes',value = 1)\n",
        "\n",
        "df['partial paresis'] = df['partial paresis'].replace(to_replace = 'No',value = 0)\n",
        "df['partial paresis'] = df['partial paresis'].replace(to_replace = 'Yes',value = 1)\n",
        "\n",
        "df['muscle stiffness'] = df['muscle stiffness'].replace(to_replace = 'No',value = 0)\n",
        "df['muscle stiffness'] = df['muscle stiffness'].replace(to_replace = 'Yes',value = 1)\n",
        "\n",
        "df['Alopecia'] = df['Alopecia'].replace(to_replace = 'No',value = 0)\n",
        "df['Alopecia'] = df['Alopecia'].replace(to_replace = 'Yes',value = 1)\n",
        "\n",
        "df['Obesity'] = df['Obesity'].replace(to_replace = 'No',value = 0)\n",
        "df['Obesity'] = df['Obesity'].replace(to_replace = 'Yes',value = 1)\n",
        "\n",
        "df['class'] = df['class'].replace(to_replace = 'Negative',value = 0)\n",
        "df['class'] = df['class'].replace(to_replace = 'Positive',value = 1)"
      ]
    },
    {
      "cell_type": "markdown",
      "source": [
        "The columns of the dataframe is now in the form of integer "
      ],
      "metadata": {
        "id": "9EFhl-XrxA7B"
      }
    },
    {
      "cell_type": "code",
      "execution_count": 7,
      "metadata": {
        "colab": {
          "base_uri": "https://localhost:8080/",
          "height": 424
        },
        "id": "UDoWZWyAluqM",
        "outputId": "7a6603a1-627b-49ad-90f6-6dafb85a8d1b"
      },
      "outputs": [
        {
          "output_type": "execute_result",
          "data": {
            "text/html": [
              "\n",
              "  <div id=\"df-233a9f0a-25fc-4b7f-8df6-145f13e2bd4f\">\n",
              "    <div class=\"colab-df-container\">\n",
              "      <div>\n",
              "<style scoped>\n",
              "    .dataframe tbody tr th:only-of-type {\n",
              "        vertical-align: middle;\n",
              "    }\n",
              "\n",
              "    .dataframe tbody tr th {\n",
              "        vertical-align: top;\n",
              "    }\n",
              "\n",
              "    .dataframe thead th {\n",
              "        text-align: right;\n",
              "    }\n",
              "</style>\n",
              "<table border=\"1\" class=\"dataframe\">\n",
              "  <thead>\n",
              "    <tr style=\"text-align: right;\">\n",
              "      <th></th>\n",
              "      <th>Age</th>\n",
              "      <th>Gender</th>\n",
              "      <th>Polyuria</th>\n",
              "      <th>Polydipsia</th>\n",
              "      <th>sudden weight loss</th>\n",
              "      <th>weakness</th>\n",
              "      <th>Polyphagia</th>\n",
              "      <th>Genital thrush</th>\n",
              "      <th>visual blurring</th>\n",
              "      <th>Itching</th>\n",
              "      <th>Irritability</th>\n",
              "      <th>delayed healing</th>\n",
              "      <th>partial paresis</th>\n",
              "      <th>muscle stiffness</th>\n",
              "      <th>Alopecia</th>\n",
              "      <th>Obesity</th>\n",
              "      <th>class</th>\n",
              "    </tr>\n",
              "  </thead>\n",
              "  <tbody>\n",
              "    <tr>\n",
              "      <th>0</th>\n",
              "      <td>40</td>\n",
              "      <td>0</td>\n",
              "      <td>0</td>\n",
              "      <td>1</td>\n",
              "      <td>0</td>\n",
              "      <td>1</td>\n",
              "      <td>0</td>\n",
              "      <td>0</td>\n",
              "      <td>0</td>\n",
              "      <td>1</td>\n",
              "      <td>0</td>\n",
              "      <td>1</td>\n",
              "      <td>0</td>\n",
              "      <td>1</td>\n",
              "      <td>1</td>\n",
              "      <td>1</td>\n",
              "      <td>1</td>\n",
              "    </tr>\n",
              "    <tr>\n",
              "      <th>1</th>\n",
              "      <td>58</td>\n",
              "      <td>0</td>\n",
              "      <td>0</td>\n",
              "      <td>0</td>\n",
              "      <td>0</td>\n",
              "      <td>1</td>\n",
              "      <td>0</td>\n",
              "      <td>0</td>\n",
              "      <td>1</td>\n",
              "      <td>0</td>\n",
              "      <td>0</td>\n",
              "      <td>0</td>\n",
              "      <td>1</td>\n",
              "      <td>0</td>\n",
              "      <td>1</td>\n",
              "      <td>0</td>\n",
              "      <td>1</td>\n",
              "    </tr>\n",
              "    <tr>\n",
              "      <th>2</th>\n",
              "      <td>41</td>\n",
              "      <td>0</td>\n",
              "      <td>1</td>\n",
              "      <td>0</td>\n",
              "      <td>0</td>\n",
              "      <td>1</td>\n",
              "      <td>1</td>\n",
              "      <td>0</td>\n",
              "      <td>0</td>\n",
              "      <td>1</td>\n",
              "      <td>0</td>\n",
              "      <td>1</td>\n",
              "      <td>0</td>\n",
              "      <td>1</td>\n",
              "      <td>1</td>\n",
              "      <td>0</td>\n",
              "      <td>1</td>\n",
              "    </tr>\n",
              "    <tr>\n",
              "      <th>3</th>\n",
              "      <td>45</td>\n",
              "      <td>0</td>\n",
              "      <td>0</td>\n",
              "      <td>0</td>\n",
              "      <td>1</td>\n",
              "      <td>1</td>\n",
              "      <td>1</td>\n",
              "      <td>1</td>\n",
              "      <td>0</td>\n",
              "      <td>1</td>\n",
              "      <td>0</td>\n",
              "      <td>1</td>\n",
              "      <td>0</td>\n",
              "      <td>0</td>\n",
              "      <td>0</td>\n",
              "      <td>0</td>\n",
              "      <td>1</td>\n",
              "    </tr>\n",
              "    <tr>\n",
              "      <th>4</th>\n",
              "      <td>60</td>\n",
              "      <td>0</td>\n",
              "      <td>1</td>\n",
              "      <td>1</td>\n",
              "      <td>1</td>\n",
              "      <td>1</td>\n",
              "      <td>1</td>\n",
              "      <td>0</td>\n",
              "      <td>1</td>\n",
              "      <td>1</td>\n",
              "      <td>1</td>\n",
              "      <td>1</td>\n",
              "      <td>1</td>\n",
              "      <td>1</td>\n",
              "      <td>1</td>\n",
              "      <td>1</td>\n",
              "      <td>1</td>\n",
              "    </tr>\n",
              "    <tr>\n",
              "      <th>5</th>\n",
              "      <td>55</td>\n",
              "      <td>0</td>\n",
              "      <td>1</td>\n",
              "      <td>1</td>\n",
              "      <td>0</td>\n",
              "      <td>1</td>\n",
              "      <td>1</td>\n",
              "      <td>0</td>\n",
              "      <td>1</td>\n",
              "      <td>1</td>\n",
              "      <td>0</td>\n",
              "      <td>1</td>\n",
              "      <td>0</td>\n",
              "      <td>1</td>\n",
              "      <td>1</td>\n",
              "      <td>1</td>\n",
              "      <td>1</td>\n",
              "    </tr>\n",
              "    <tr>\n",
              "      <th>6</th>\n",
              "      <td>57</td>\n",
              "      <td>0</td>\n",
              "      <td>1</td>\n",
              "      <td>1</td>\n",
              "      <td>0</td>\n",
              "      <td>1</td>\n",
              "      <td>1</td>\n",
              "      <td>1</td>\n",
              "      <td>0</td>\n",
              "      <td>0</td>\n",
              "      <td>0</td>\n",
              "      <td>1</td>\n",
              "      <td>1</td>\n",
              "      <td>0</td>\n",
              "      <td>0</td>\n",
              "      <td>0</td>\n",
              "      <td>1</td>\n",
              "    </tr>\n",
              "    <tr>\n",
              "      <th>7</th>\n",
              "      <td>66</td>\n",
              "      <td>0</td>\n",
              "      <td>1</td>\n",
              "      <td>1</td>\n",
              "      <td>1</td>\n",
              "      <td>1</td>\n",
              "      <td>0</td>\n",
              "      <td>0</td>\n",
              "      <td>1</td>\n",
              "      <td>1</td>\n",
              "      <td>1</td>\n",
              "      <td>0</td>\n",
              "      <td>1</td>\n",
              "      <td>1</td>\n",
              "      <td>0</td>\n",
              "      <td>0</td>\n",
              "      <td>1</td>\n",
              "    </tr>\n",
              "    <tr>\n",
              "      <th>8</th>\n",
              "      <td>67</td>\n",
              "      <td>0</td>\n",
              "      <td>1</td>\n",
              "      <td>1</td>\n",
              "      <td>0</td>\n",
              "      <td>1</td>\n",
              "      <td>1</td>\n",
              "      <td>1</td>\n",
              "      <td>0</td>\n",
              "      <td>1</td>\n",
              "      <td>1</td>\n",
              "      <td>0</td>\n",
              "      <td>1</td>\n",
              "      <td>1</td>\n",
              "      <td>0</td>\n",
              "      <td>1</td>\n",
              "      <td>1</td>\n",
              "    </tr>\n",
              "    <tr>\n",
              "      <th>9</th>\n",
              "      <td>70</td>\n",
              "      <td>0</td>\n",
              "      <td>0</td>\n",
              "      <td>1</td>\n",
              "      <td>1</td>\n",
              "      <td>1</td>\n",
              "      <td>1</td>\n",
              "      <td>0</td>\n",
              "      <td>1</td>\n",
              "      <td>1</td>\n",
              "      <td>1</td>\n",
              "      <td>0</td>\n",
              "      <td>0</td>\n",
              "      <td>0</td>\n",
              "      <td>1</td>\n",
              "      <td>0</td>\n",
              "      <td>1</td>\n",
              "    </tr>\n",
              "  </tbody>\n",
              "</table>\n",
              "</div>\n",
              "      <button class=\"colab-df-convert\" onclick=\"convertToInteractive('df-233a9f0a-25fc-4b7f-8df6-145f13e2bd4f')\"\n",
              "              title=\"Convert this dataframe to an interactive table.\"\n",
              "              style=\"display:none;\">\n",
              "        \n",
              "  <svg xmlns=\"http://www.w3.org/2000/svg\" height=\"24px\"viewBox=\"0 0 24 24\"\n",
              "       width=\"24px\">\n",
              "    <path d=\"M0 0h24v24H0V0z\" fill=\"none\"/>\n",
              "    <path d=\"M18.56 5.44l.94 2.06.94-2.06 2.06-.94-2.06-.94-.94-2.06-.94 2.06-2.06.94zm-11 1L8.5 8.5l.94-2.06 2.06-.94-2.06-.94L8.5 2.5l-.94 2.06-2.06.94zm10 10l.94 2.06.94-2.06 2.06-.94-2.06-.94-.94-2.06-.94 2.06-2.06.94z\"/><path d=\"M17.41 7.96l-1.37-1.37c-.4-.4-.92-.59-1.43-.59-.52 0-1.04.2-1.43.59L10.3 9.45l-7.72 7.72c-.78.78-.78 2.05 0 2.83L4 21.41c.39.39.9.59 1.41.59.51 0 1.02-.2 1.41-.59l7.78-7.78 2.81-2.81c.8-.78.8-2.07 0-2.86zM5.41 20L4 18.59l7.72-7.72 1.47 1.35L5.41 20z\"/>\n",
              "  </svg>\n",
              "      </button>\n",
              "      \n",
              "  <style>\n",
              "    .colab-df-container {\n",
              "      display:flex;\n",
              "      flex-wrap:wrap;\n",
              "      gap: 12px;\n",
              "    }\n",
              "\n",
              "    .colab-df-convert {\n",
              "      background-color: #E8F0FE;\n",
              "      border: none;\n",
              "      border-radius: 50%;\n",
              "      cursor: pointer;\n",
              "      display: none;\n",
              "      fill: #1967D2;\n",
              "      height: 32px;\n",
              "      padding: 0 0 0 0;\n",
              "      width: 32px;\n",
              "    }\n",
              "\n",
              "    .colab-df-convert:hover {\n",
              "      background-color: #E2EBFA;\n",
              "      box-shadow: 0px 1px 2px rgba(60, 64, 67, 0.3), 0px 1px 3px 1px rgba(60, 64, 67, 0.15);\n",
              "      fill: #174EA6;\n",
              "    }\n",
              "\n",
              "    [theme=dark] .colab-df-convert {\n",
              "      background-color: #3B4455;\n",
              "      fill: #D2E3FC;\n",
              "    }\n",
              "\n",
              "    [theme=dark] .colab-df-convert:hover {\n",
              "      background-color: #434B5C;\n",
              "      box-shadow: 0px 1px 3px 1px rgba(0, 0, 0, 0.15);\n",
              "      filter: drop-shadow(0px 1px 2px rgba(0, 0, 0, 0.3));\n",
              "      fill: #FFFFFF;\n",
              "    }\n",
              "  </style>\n",
              "\n",
              "      <script>\n",
              "        const buttonEl =\n",
              "          document.querySelector('#df-233a9f0a-25fc-4b7f-8df6-145f13e2bd4f button.colab-df-convert');\n",
              "        buttonEl.style.display =\n",
              "          google.colab.kernel.accessAllowed ? 'block' : 'none';\n",
              "\n",
              "        async function convertToInteractive(key) {\n",
              "          const element = document.querySelector('#df-233a9f0a-25fc-4b7f-8df6-145f13e2bd4f');\n",
              "          const dataTable =\n",
              "            await google.colab.kernel.invokeFunction('convertToInteractive',\n",
              "                                                     [key], {});\n",
              "          if (!dataTable) return;\n",
              "\n",
              "          const docLinkHtml = 'Like what you see? Visit the ' +\n",
              "            '<a target=\"_blank\" href=https://colab.research.google.com/notebooks/data_table.ipynb>data table notebook</a>'\n",
              "            + ' to learn more about interactive tables.';\n",
              "          element.innerHTML = '';\n",
              "          dataTable['output_type'] = 'display_data';\n",
              "          await google.colab.output.renderOutput(dataTable, element);\n",
              "          const docLink = document.createElement('div');\n",
              "          docLink.innerHTML = docLinkHtml;\n",
              "          element.appendChild(docLink);\n",
              "        }\n",
              "      </script>\n",
              "    </div>\n",
              "  </div>\n",
              "  "
            ],
            "text/plain": [
              "   Age  Gender  Polyuria  ...  Alopecia  Obesity  class\n",
              "0   40       0         0  ...         1        1      1\n",
              "1   58       0         0  ...         1        0      1\n",
              "2   41       0         1  ...         1        0      1\n",
              "3   45       0         0  ...         0        0      1\n",
              "4   60       0         1  ...         1        1      1\n",
              "5   55       0         1  ...         1        1      1\n",
              "6   57       0         1  ...         0        0      1\n",
              "7   66       0         1  ...         0        0      1\n",
              "8   67       0         1  ...         0        1      1\n",
              "9   70       0         0  ...         1        0      1\n",
              "\n",
              "[10 rows x 17 columns]"
            ]
          },
          "metadata": {},
          "execution_count": 7
        }
      ],
      "source": [
        "df.head(10)"
      ]
    },
    {
      "cell_type": "markdown",
      "metadata": {
        "id": "aFYxvEgg4um9"
      },
      "source": [
        "The following is the histogram of diabetes in different age groups"
      ]
    },
    {
      "cell_type": "code",
      "execution_count": 8,
      "metadata": {
        "colab": {
          "base_uri": "https://localhost:8080/",
          "height": 232
        },
        "id": "hAk6ekqjyJ82",
        "outputId": "18596c3c-ef39-4983-f089-3a689d2d62bd"
      },
      "outputs": [
        {
          "output_type": "display_data",
          "data": {
            "image/png": "[encoded data removed]",
            "text/plain": [
              "<Figure size 474.375x216 with 1 Axes>"
            ]
          },
          "metadata": {}
        }
      ],
      "source": [
        "def plotHistogram(values,label,feature,title):\n",
        "    sns.set_style(\"whitegrid\")\n",
        "    plotOne = sns.FacetGrid(values, hue=label,aspect=2)\n",
        "    plotOne.map(sns.histplot,feature,kde=False)\n",
        "    plotOne.set(xlim=(0, values[feature].max()))\n",
        "    plotOne.add_legend()\n",
        "    plotOne.set_axis_labels(feature, 'Proportion')\n",
        "    plotOne.fig.suptitle(title)\n",
        "    plt.show()\n",
        "plotHistogram(df,'class','Age','Diabetes in different Age groups')"
      ]
    },
    {
      "cell_type": "markdown",
      "metadata": {
        "id": "pHZ6FJX-4oec"
      },
      "source": [
        "The following is the correlation graph"
      ]
    },
    {
      "cell_type": "code",
      "execution_count": 9,
      "metadata": {
        "colab": {
          "base_uri": "https://localhost:8080/",
          "height": 356
        },
        "id": "fLCmP-Un1y0T",
        "outputId": "77dcbd4a-8370-430d-dd89-41fbc45c1e30"
      },
      "outputs": [
        {
          "output_type": "display_data",
          "data": {
            "image/png": "[encoded data removed]",
            "text/plain": [
              "<Figure size 432x288 with 2 Axes>"
            ]
          },
          "metadata": {}
        }
      ],
      "source": [
        "g = sns.heatmap(df.corr(),cmap=\"PuBu\",annot=False) "
      ]
    },
    {
      "cell_type": "markdown",
      "source": [
        "Separating the independent and the target variables"
      ],
      "metadata": {
        "id": "wzkqD2WtxN3M"
      }
    },
    {
      "cell_type": "code",
      "execution_count": 10,
      "metadata": {
        "id": "gQXEq3V6qTcO"
      },
      "outputs": [],
      "source": [
        "x = df[['Age',\t'Gender',\t'Polyuria',\t'Polydipsia',\t'sudden weight loss',\t'weakness',\t'Polyphagia',\t'Genital thrush',\t'visual blurring',\t'Itching',\t'Irritability',\t'delayed healing',\t'partial paresis',\t'muscle stiffness',\t'Alopecia',\t'Obesity']]\n",
        "y = df['class']"
      ]
    },
    {
      "cell_type": "markdown",
      "source": [
        "Splitting the dataframe into two parts (training and testing), training and testing are in the ratio of 80 : 20, and mixing the dataframe into randome train and test subsets"
      ],
      "metadata": {
        "id": "5eyEkKMvxiHQ"
      }
    },
    {
      "cell_type": "code",
      "execution_count": 11,
      "metadata": {
        "colab": {
          "base_uri": "https://localhost:8080/"
        },
        "id": "dIqR_WvkLwra",
        "outputId": "8302d3e5-a520-4d8e-c70a-cfd869dc7828"
      },
      "outputs": [
        {
          "output_type": "stream",
          "name": "stdout",
          "text": [
            "(416, 16)\n",
            "(104, 16)\n"
          ]
        }
      ],
      "source": [
        "x_train, x_test, y_train, y_test = train_test_split(x, y, test_size=0.20, random_state=40)\n",
        "print(x_train.shape)\n",
        "print(x_test.shape)"
      ]
    },
    {
      "cell_type": "markdown",
      "source": [
        "MLP which is Multi-layer Perceptron classifier, is a type of neural network, which can be used to train a machine learning model and it is used to classify or predict the target variable"
      ],
      "metadata": {
        "id": "HRBcqrtXyYMC"
      }
    },
    {
      "cell_type": "code",
      "execution_count": 12,
      "metadata": {
        "id": "YbN8cjkzq2jW",
        "colab": {
          "base_uri": "https://localhost:8080/"
        },
        "outputId": "5aee67e1-cc3b-4c39-9af0-7597d8752221"
      },
      "outputs": [
        {
          "output_type": "stream",
          "name": "stderr",
          "text": [
            "/usr/local/lib/python3.7/dist-packages/sklearn/neural_network/_multilayer_perceptron.py:696: ConvergenceWarning: Stochastic Optimizer: Maximum iterations (500) reached and the optimization hasn't converged yet.\n",
            "  ConvergenceWarning,\n"
          ]
        }
      ],
      "source": [
        "mlp = MLPClassifier(hidden_layer_sizes=(8,8,8), activation='relu', solver='adam', max_iter=500)\n",
        "mlp.fit(x_train,y_train)\n",
        "\n",
        "predict_train = mlp.predict(x_train)\n",
        "predict_test = mlp.predict(x_test)"
      ]
    },
    {
      "cell_type": "markdown",
      "source": [
        "Outputing the accuracy of the model"
      ],
      "metadata": {
        "id": "EA-3lI1jzUq9"
      }
    },
    {
      "cell_type": "code",
      "execution_count": 13,
      "metadata": {
        "colab": {
          "base_uri": "https://localhost:8080/"
        },
        "id": "-SpL4-Wiru7j",
        "outputId": "3c8f3539-aa25-437a-f4a0-c45ed606ea9c"
      },
      "outputs": [
        {
          "output_type": "stream",
          "name": "stdout",
          "text": [
            "[[40  4]\n",
            " [ 6 54]]\n",
            "              precision    recall  f1-score   support\n",
            "\n",
            "           0       0.87      0.91      0.89        44\n",
            "           1       0.93      0.90      0.92        60\n",
            "\n",
            "    accuracy                           0.90       104\n",
            "   macro avg       0.90      0.90      0.90       104\n",
            "weighted avg       0.91      0.90      0.90       104\n",
            "\n"
          ]
        }
      ],
      "source": [
        "print(confusion_matrix(y_test,predict_test))\n",
        "print(classification_report(y_test,predict_test))"
      ]
    },
    {
      "cell_type": "code",
      "execution_count": 14,
      "metadata": {
        "id": "8AMTIyq7uPHX",
        "colab": {
          "base_uri": "https://localhost:8080/"
        },
        "outputId": "7ac071ee-7f39-400a-ec70-2f4f046662f7"
      },
      "outputs": [
        {
          "output_type": "stream",
          "name": "stdout",
          "text": [
            "The accuracy of the model is 90.38461538461539\n"
          ]
        }
      ],
      "source": [
        "d = classification_report(y_test, predict_test,target_names=None,output_dict=True)\n",
        "print(\"The accuracy of the model is \" + str(d['accuracy']*100))"
      ]
    },
    {
      "cell_type": "markdown",
      "source": [
        "Taking input from the user, to predict if the patient has diabetes or not"
      ],
      "metadata": {
        "id": "ouYsgZoYz086"
      }
    },
    {
      "cell_type": "code",
      "execution_count": 15,
      "metadata": {
        "id": "TO3DJatUVeQW"
      },
      "outputs": [],
      "source": [
        "#@title Enter the details of the patient\n",
        "Age =  58#@param {type:\"number\"}\n",
        "Male = 0\n",
        "Female = 1\n",
        "No = 0\n",
        "Yes = 1\n",
        "Gender = Male #@param [\"Male\", \"Female\"] {type:\"raw\"}\n",
        "Polyuria = Yes #@param [\"Yes\", \"No\"] {type:\"raw\"}\n",
        "Polydipsia = Yes #@param [\"Yes\", \"No\"] {type:\"raw\"}\n",
        "sudden_weight_loss = Yes #@param [\"Yes\", \"No\"] {type:\"raw\"}\n",
        "weakness = Yes #@param [\"Yes\", \"No\"] {type:\"raw\"}\n",
        "Polyphagia = Yes #@param [\"Yes\", \"No\"] {type:\"raw\"}\n",
        "Genital_thrush = Yes #@param [\"Yes\", \"No\"] {type:\"raw\"}\n",
        "visual_blurring = Yes #@param [\"Yes\", \"No\"] {type:\"raw\"}\n",
        "Itching = Yes #@param [\"Yes\", \"No\"] {type:\"raw\"}\n",
        "Irritability = Yes #@param [\"Yes\", \"No\"] {type:\"raw\"}\n",
        "delayed_healing = Yes #@param [\"Yes\", \"No\"] {type:\"raw\"}\n",
        "partial_paresis = Yes #@param [\"Yes\", \"No\"] {type:\"raw\"}\n",
        "muscle_stiffness = Yes #@param [\"Yes\", \"No\"] {type:\"raw\"}\n",
        "Alopecia = Yes #@param [\"Yes\", \"No\"] {type:\"raw\"}\n",
        "Obesity = Yes #@param [\"Yes\", \"No\"] {type:\"raw\"}\n",
        "\n",
        "\n",
        "\n"
      ]
    },
    {
      "cell_type": "markdown",
      "source": [
        "Storing the variables into form of a dataframe"
      ],
      "metadata": {
        "id": "t3a_wvMj0Brz"
      }
    },
    {
      "cell_type": "code",
      "execution_count": 16,
      "metadata": {
        "id": "ApDiDqqtYiRk"
      },
      "outputs": [],
      "source": [
        "x1 = OrderedDict({'Age' : Age,'Gender' : Gender ,'Polyuria': Polyuria,'Polydipsia' : Polydipsia,'sudden weight loss' : sudden_weight_loss,'weakness' : weakness,'Polyphagia' : Polyphagia,'Genital thrush' : Genital_thrush,'visual blurring' : visual_blurring,'Itching' : Itching,'Irritability' : Irritability,'delayed healing': delayed_healing,'partial paresis' : partial_paresis,'muscle stiffness' : muscle_stiffness,'Alopecia' : Alopecia,'Obesity' :Obesity})\n",
        "key = x1.keys()\n",
        "value = x1.values()\n",
        "dr = pd.DataFrame(value,key)\n",
        "dr = dr.T"
      ]
    },
    {
      "cell_type": "code",
      "execution_count": 17,
      "metadata": {
        "colab": {
          "base_uri": "https://localhost:8080/",
          "height": 142
        },
        "id": "51Ox9p3ecG06",
        "outputId": "f50acaab-0cf9-43d3-8b52-2ba38f777034"
      },
      "outputs": [
        {
          "output_type": "execute_result",
          "data": {
            "text/html": [
              "\n",
              "  <div id=\"df-9a48eec5-1861-4bf1-82fe-2eaa57cd24e1\">\n",
              "    <div class=\"colab-df-container\">\n",
              "      <div>\n",
              "<style scoped>\n",
              "    .dataframe tbody tr th:only-of-type {\n",
              "        vertical-align: middle;\n",
              "    }\n",
              "\n",
              "    .dataframe tbody tr th {\n",
              "        vertical-align: top;\n",
              "    }\n",
              "\n",
              "    .dataframe thead th {\n",
              "        text-align: right;\n",
              "    }\n",
              "</style>\n",
              "<table border=\"1\" class=\"dataframe\">\n",
              "  <thead>\n",
              "    <tr style=\"text-align: right;\">\n",
              "      <th></th>\n",
              "      <th>Age</th>\n",
              "      <th>Gender</th>\n",
              "      <th>Polyuria</th>\n",
              "      <th>Polydipsia</th>\n",
              "      <th>sudden weight loss</th>\n",
              "      <th>weakness</th>\n",
              "      <th>Polyphagia</th>\n",
              "      <th>Genital thrush</th>\n",
              "      <th>visual blurring</th>\n",
              "      <th>Itching</th>\n",
              "      <th>Irritability</th>\n",
              "      <th>delayed healing</th>\n",
              "      <th>partial paresis</th>\n",
              "      <th>muscle stiffness</th>\n",
              "      <th>Alopecia</th>\n",
              "      <th>Obesity</th>\n",
              "    </tr>\n",
              "  </thead>\n",
              "  <tbody>\n",
              "    <tr>\n",
              "      <th>0</th>\n",
              "      <td>58</td>\n",
              "      <td>0</td>\n",
              "      <td>1</td>\n",
              "      <td>1</td>\n",
              "      <td>1</td>\n",
              "      <td>1</td>\n",
              "      <td>1</td>\n",
              "      <td>1</td>\n",
              "      <td>1</td>\n",
              "      <td>1</td>\n",
              "      <td>1</td>\n",
              "      <td>1</td>\n",
              "      <td>1</td>\n",
              "      <td>1</td>\n",
              "      <td>1</td>\n",
              "      <td>1</td>\n",
              "    </tr>\n",
              "  </tbody>\n",
              "</table>\n",
              "</div>\n",
              "      <button class=\"colab-df-convert\" onclick=\"convertToInteractive('df-9a48eec5-1861-4bf1-82fe-2eaa57cd24e1')\"\n",
              "              title=\"Convert this dataframe to an interactive table.\"\n",
              "              style=\"display:none;\">\n",
              "        \n",
              "  <svg xmlns=\"http://www.w3.org/2000/svg\" height=\"24px\"viewBox=\"0 0 24 24\"\n",
              "       width=\"24px\">\n",
              "    <path d=\"M0 0h24v24H0V0z\" fill=\"none\"/>\n",
              "    <path d=\"M18.56 5.44l.94 2.06.94-2.06 2.06-.94-2.06-.94-.94-2.06-.94 2.06-2.06.94zm-11 1L8.5 8.5l.94-2.06 2.06-.94-2.06-.94L8.5 2.5l-.94 2.06-2.06.94zm10 10l.94 2.06.94-2.06 2.06-.94-2.06-.94-.94-2.06-.94 2.06-2.06.94z\"/><path d=\"M17.41 7.96l-1.37-1.37c-.4-.4-.92-.59-1.43-.59-.52 0-1.04.2-1.43.59L10.3 9.45l-7.72 7.72c-.78.78-.78 2.05 0 2.83L4 21.41c.39.39.9.59 1.41.59.51 0 1.02-.2 1.41-.59l7.78-7.78 2.81-2.81c.8-.78.8-2.07 0-2.86zM5.41 20L4 18.59l7.72-7.72 1.47 1.35L5.41 20z\"/>\n",
              "  </svg>\n",
              "      </button>\n",
              "      \n",
              "  <style>\n",
              "    .colab-df-container {\n",
              "      display:flex;\n",
              "      flex-wrap:wrap;\n",
              "      gap: 12px;\n",
              "    }\n",
              "\n",
              "    .colab-df-convert {\n",
              "      background-color: #E8F0FE;\n",
              "      border: none;\n",
              "      border-radius: 50%;\n",
              "      cursor: pointer;\n",
              "      display: none;\n",
              "      fill: #1967D2;\n",
              "      height: 32px;\n",
              "      padding: 0 0 0 0;\n",
              "      width: 32px;\n",
              "    }\n",
              "\n",
              "    .colab-df-convert:hover {\n",
              "      background-color: #E2EBFA;\n",
              "      box-shadow: 0px 1px 2px rgba(60, 64, 67, 0.3), 0px 1px 3px 1px rgba(60, 64, 67, 0.15);\n",
              "      fill: #174EA6;\n",
              "    }\n",
              "\n",
              "    [theme=dark] .colab-df-convert {\n",
              "      background-color: #3B4455;\n",
              "      fill: #D2E3FC;\n",
              "    }\n",
              "\n",
              "    [theme=dark] .colab-df-convert:hover {\n",
              "      background-color: #434B5C;\n",
              "      box-shadow: 0px 1px 3px 1px rgba(0, 0, 0, 0.15);\n",
              "      filter: drop-shadow(0px 1px 2px rgba(0, 0, 0, 0.3));\n",
              "      fill: #FFFFFF;\n",
              "    }\n",
              "  </style>\n",
              "\n",
              "      <script>\n",
              "        const buttonEl =\n",
              "          document.querySelector('#df-9a48eec5-1861-4bf1-82fe-2eaa57cd24e1 button.colab-df-convert');\n",
              "        buttonEl.style.display =\n",
              "          google.colab.kernel.accessAllowed ? 'block' : 'none';\n",
              "\n",
              "        async function convertToInteractive(key) {\n",
              "          const element = document.querySelector('#df-9a48eec5-1861-4bf1-82fe-2eaa57cd24e1');\n",
              "          const dataTable =\n",
              "            await google.colab.kernel.invokeFunction('convertToInteractive',\n",
              "                                                     [key], {});\n",
              "          if (!dataTable) return;\n",
              "\n",
              "          const docLinkHtml = 'Like what you see? Visit the ' +\n",
              "            '<a target=\"_blank\" href=https://colab.research.google.com/notebooks/data_table.ipynb>data table notebook</a>'\n",
              "            + ' to learn more about interactive tables.';\n",
              "          element.innerHTML = '';\n",
              "          dataTable['output_type'] = 'display_data';\n",
              "          await google.colab.output.renderOutput(dataTable, element);\n",
              "          const docLink = document.createElement('div');\n",
              "          docLink.innerHTML = docLinkHtml;\n",
              "          element.appendChild(docLink);\n",
              "        }\n",
              "      </script>\n",
              "    </div>\n",
              "  </div>\n",
              "  "
            ],
            "text/plain": [
              "   Age  Gender  Polyuria  ...  muscle stiffness  Alopecia  Obesity\n",
              "0   58       0         1  ...                 1         1        1\n",
              "\n",
              "[1 rows x 16 columns]"
            ]
          },
          "metadata": {},
          "execution_count": 17
        }
      ],
      "source": [
        "dr.head()"
      ]
    },
    {
      "cell_type": "markdown",
      "source": [
        "Displaying the final result of the patient "
      ],
      "metadata": {
        "id": "ABam0F4z0NTS"
      }
    },
    {
      "cell_type": "code",
      "execution_count": 18,
      "metadata": {
        "colab": {
          "base_uri": "https://localhost:8080/"
        },
        "id": "vi-ON3GSZmjz",
        "outputId": "f2555bee-9486-4122-d50d-0938ebccf050"
      },
      "outputs": [
        {
          "output_type": "stream",
          "name": "stdout",
          "text": [
            "The patient may have the risk of having Diabetes\n"
          ]
        }
      ],
      "source": [
        "y1 = mlp.predict(dr)\n",
        "if (y1[0] == 1):\n",
        "  print(\"The patient may have the risk of having Diabetes\")\n",
        "else:\n",
        "  print(\"The patient may not have the risk of having Diabetes\")"
      ]
    }
  ],
  "metadata": {
    "colab": {
      "collapsed_sections": [],
      "name": "pantheon.ipynb",
      "provenance": [],
      "authorship_tag": "ABX9TyNsHQRHkiRTShN1UwwJCxdt",
      "include_colab_link": true
    },
    "kernelspec": {
      "display_name": "Python 3",
      "name": "python3"
    },
    "language_info": {
      "name": "python"
    }
  },
  "nbformat": 4,
  "nbformat_minor": 0
}